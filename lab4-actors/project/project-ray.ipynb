{
 "cells": [
  {
   "cell_type": "code",
   "execution_count": null,
   "id": "91e46fb6",
   "metadata": {},
   "outputs": [
    {
     "name": "stderr",
     "output_type": "stream",
     "text": [
      "2025-05-11 19:29:07,691\tINFO worker.py:1843 -- Started a local Ray instance. View the dashboard at \u001b[1m\u001b[32mhttp://127.0.0.1:8265 \u001b[39m\u001b[22m\n"
     ]
    },
    {
     "data": {
      "application/vnd.jupyter.widget-view+json": {
       "model_id": "62a521c51cfe4ba0aba717eef1458914",
       "version_major": 2,
       "version_minor": 0
      },
      "text/html": [
       "<div class=\"lm-Widget p-Widget lm-Panel p-Panel jp-Cell-outputWrapper\">\n",
       "    <div style=\"margin-left: 50px;display: flex;flex-direction: row;align-items: center\">\n",
       "        <div class=\"jp-RenderedHTMLCommon\" style=\"display: flex; flex-direction: row;\">\n",
       "  <svg viewBox=\"0 0 567 224\" fill=\"none\" xmlns=\"http://www.w3.org/2000/svg\" style=\"height: 3em;\">\n",
       "    <g clip-path=\"url(#clip0_4338_178347)\">\n",
       "        <path d=\"M341.29 165.561H355.29L330.13 129.051C345.63 123.991 354.21 112.051 354.21 94.2307C354.21 71.3707 338.72 58.1807 311.88 58.1807H271V165.561H283.27V131.661H311.8C314.25 131.661 316.71 131.501 319.01 131.351L341.25 165.561H341.29ZM283.29 119.851V70.0007H311.82C331.3 70.0007 342.34 78.2907 342.34 94.5507C342.34 111.271 331.34 119.861 311.82 119.861L283.29 119.851ZM451.4 138.411L463.4 165.561H476.74L428.74 58.1807H416L367.83 165.561H380.83L392.83 138.411H451.4ZM446.19 126.601H398L422 72.1407L446.24 126.601H446.19ZM526.11 128.741L566.91 58.1807H554.35L519.99 114.181L485.17 58.1807H472.44L514.01 129.181V165.541H526.13V128.741H526.11Z\" fill=\"var(--jp-ui-font-color0)\"/>\n",
       "        <path d=\"M82.35 104.44C84.0187 97.8827 87.8248 92.0678 93.1671 87.9146C98.5094 83.7614 105.083 81.5067 111.85 81.5067C118.617 81.5067 125.191 83.7614 130.533 87.9146C135.875 92.0678 139.681 97.8827 141.35 104.44H163.75C164.476 101.562 165.622 98.8057 167.15 96.2605L127.45 56.5605C121.071 60.3522 113.526 61.6823 106.235 60.3005C98.9443 58.9187 92.4094 54.9203 87.8602 49.0574C83.3109 43.1946 81.0609 35.8714 81.5332 28.4656C82.0056 21.0599 85.1679 14.0819 90.4252 8.8446C95.6824 3.60726 102.672 0.471508 110.08 0.0272655C117.487 -0.416977 124.802 1.86091 130.647 6.4324C136.493 11.0039 140.467 17.5539 141.821 24.8501C143.175 32.1463 141.816 39.6859 138 46.0505L177.69 85.7505C182.31 82.9877 187.58 81.4995 192.962 81.4375C198.345 81.3755 203.648 82.742 208.33 85.3976C213.012 88.0532 216.907 91.9029 219.616 96.5544C222.326 101.206 223.753 106.492 223.753 111.875C223.753 117.258 222.326 122.545 219.616 127.197C216.907 131.848 213.012 135.698 208.33 138.353C203.648 141.009 198.345 142.375 192.962 142.313C187.58 142.251 182.31 140.763 177.69 138L138 177.7C141.808 184.071 143.155 191.614 141.79 198.91C140.424 206.205 136.44 212.75 130.585 217.313C124.731 221.875 117.412 224.141 110.004 223.683C102.596 223.226 95.6103 220.077 90.3621 214.828C85.1139 209.58 81.9647 202.595 81.5072 195.187C81.0497 187.779 83.3154 180.459 87.878 174.605C92.4405 168.751 98.9853 164.766 106.281 163.401C113.576 162.035 121.119 163.383 127.49 167.19L167.19 127.49C165.664 124.941 164.518 122.182 163.79 119.3H141.39C139.721 125.858 135.915 131.673 130.573 135.826C125.231 139.98 118.657 142.234 111.89 142.234C105.123 142.234 98.5494 139.98 93.2071 135.826C87.8648 131.673 84.0587 125.858 82.39 119.3H60C58.1878 126.495 53.8086 132.78 47.6863 136.971C41.5641 141.163 34.1211 142.972 26.7579 142.059C19.3947 141.146 12.6191 137.574 7.70605 132.014C2.79302 126.454 0.0813599 119.29 0.0813599 111.87C0.0813599 104.451 2.79302 97.2871 7.70605 91.7272C12.6191 86.1673 19.3947 82.5947 26.7579 81.6817C34.1211 80.7686 41.5641 82.5781 47.6863 86.7696C53.8086 90.9611 58.1878 97.2456 60 104.44H82.35ZM100.86 204.32C103.407 206.868 106.759 208.453 110.345 208.806C113.93 209.159 117.527 208.258 120.522 206.256C123.517 204.254 125.725 201.276 126.771 197.828C127.816 194.38 127.633 190.677 126.253 187.349C124.874 184.021 122.383 181.274 119.205 179.577C116.027 177.88 112.359 177.337 108.826 178.042C105.293 178.746 102.113 180.654 99.8291 183.44C97.5451 186.226 96.2979 189.718 96.3 193.32C96.2985 195.364 96.7006 197.388 97.4831 199.275C98.2656 201.163 99.4132 202.877 100.86 204.32ZM204.32 122.88C206.868 120.333 208.453 116.981 208.806 113.396C209.159 109.811 208.258 106.214 206.256 103.219C204.254 100.223 201.275 98.0151 197.827 96.97C194.38 95.9249 190.676 96.1077 187.348 97.4873C184.02 98.8669 181.274 101.358 179.577 104.536C177.879 107.714 177.337 111.382 178.041 114.915C178.746 118.448 180.653 121.627 183.439 123.911C186.226 126.195 189.717 127.443 193.32 127.44C195.364 127.443 197.388 127.042 199.275 126.259C201.163 125.476 202.878 124.328 204.32 122.88ZM122.88 19.4205C120.333 16.8729 116.981 15.2876 113.395 14.9347C109.81 14.5817 106.213 15.483 103.218 17.4849C100.223 19.4868 98.0146 22.4654 96.9696 25.9131C95.9245 29.3608 96.1073 33.0642 97.4869 36.3922C98.8665 39.7202 101.358 42.4668 104.535 44.1639C107.713 45.861 111.381 46.4036 114.914 45.6992C118.447 44.9949 121.627 43.0871 123.911 40.301C126.195 37.515 127.442 34.0231 127.44 30.4205C127.44 28.3772 127.038 26.3539 126.255 24.4664C125.473 22.5788 124.326 20.8642 122.88 19.4205ZM19.42 100.86C16.8725 103.408 15.2872 106.76 14.9342 110.345C14.5813 113.93 15.4826 117.527 17.4844 120.522C19.4863 123.518 22.4649 125.726 25.9127 126.771C29.3604 127.816 33.0638 127.633 36.3918 126.254C39.7198 124.874 42.4664 122.383 44.1635 119.205C45.8606 116.027 46.4032 112.359 45.6988 108.826C44.9944 105.293 43.0866 102.114 40.3006 99.8296C37.5145 97.5455 34.0227 96.2983 30.42 96.3005C26.2938 96.3018 22.337 97.9421 19.42 100.86ZM100.86 100.86C98.3125 103.408 96.7272 106.76 96.3742 110.345C96.0213 113.93 96.9226 117.527 98.9244 120.522C100.926 123.518 103.905 125.726 107.353 126.771C110.8 127.816 114.504 127.633 117.832 126.254C121.16 124.874 123.906 122.383 125.604 119.205C127.301 116.027 127.843 112.359 127.139 108.826C126.434 105.293 124.527 102.114 121.741 99.8296C118.955 97.5455 115.463 96.2983 111.86 96.3005C109.817 96.299 107.793 96.701 105.905 97.4835C104.018 98.2661 102.303 99.4136 100.86 100.86Z\" fill=\"#00AEEF\"/>\n",
       "    </g>\n",
       "    <defs>\n",
       "        <clipPath id=\"clip0_4338_178347\">\n",
       "            <rect width=\"566.93\" height=\"223.75\" fill=\"white\"/>\n",
       "        </clipPath>\n",
       "    </defs>\n",
       "  </svg>\n",
       "</div>\n",
       "\n",
       "        <table class=\"jp-RenderedHTMLCommon\" style=\"border-collapse: collapse;color: var(--jp-ui-font-color1);font-size: var(--jp-ui-font-size1);\">\n",
       "    <tr>\n",
       "        <td style=\"text-align: left\"><b>Python version:</b></td>\n",
       "        <td style=\"text-align: left\"><b>3.11.12</b></td>\n",
       "    </tr>\n",
       "    <tr>\n",
       "        <td style=\"text-align: left\"><b>Ray version:</b></td>\n",
       "        <td style=\"text-align: left\"><b>2.44.1</b></td>\n",
       "    </tr>\n",
       "    <tr>\n",
       "    <td style=\"text-align: left\"><b>Dashboard:</b></td>\n",
       "    <td style=\"text-align: left\"><b><a href=\"http://127.0.0.1:8265\" target=\"_blank\">http://127.0.0.1:8265</a></b></td>\n",
       "</tr>\n",
       "\n",
       "</table>\n",
       "\n",
       "    </div>\n",
       "</div>\n"
      ],
      "text/plain": [
       "RayContext(dashboard_url='127.0.0.1:8265', python_version='3.11.12', ray_version='2.44.1', ray_commit='daca7b2b1a950dc7f731e34e74c76ae383794ffe')"
      ]
     },
     "execution_count": 1,
     "metadata": {},
     "output_type": "execute_result"
    },
    {
     "name": "stdout",
     "output_type": "stream",
     "text": [
      "\u001b[36m(StorageNode pid=98608)\u001b[0m Node 4422182032 get chunk_ala_5\n",
      "\u001b[36m(StorageNode pid=98608)\u001b[0m Node 4422182032 put chunk_ala_5 -> ['a']\n",
      "\u001b[36m(StorageNode pid=98608)\u001b[0m Node 4422182032 get chunk_ala_2\n",
      "\u001b[36m(StorageNode pid=98608)\u001b[0m Node 4422182032 put chunk_ala_2 -> ['m', 'a']\n",
      "\u001b[36m(StorageNode pid=98612)\u001b[0m Node 4429582608 put chunk_ala_0 -> ['A', 'l']\n",
      "\u001b[36m(StorageNode pid=98612)\u001b[0m Node 4429582608 put chunk_ala_4 -> ['o', 't']\n",
      "\u001b[36m(StorageNode pid=98610)\u001b[0m Node 4442247056 put chunk_ala_3 -> [' ', 'k']\n",
      "\u001b[36m(StorageNode pid=98611)\u001b[0m Node 4354000592 put chunk_ala_1 -> ['a', ' ']\n",
      "\u001b[36m(NameNode pid=98607)\u001b[0m NameNode state:\n",
      "\u001b[36m(NameNode pid=98607)\u001b[0m \tArtifact ala:\n",
      "\u001b[36m(NameNode pid=98607)\u001b[0m \tChunk chunk_ala_0 -> Node 4429582608\n",
      "\u001b[36m(NameNode pid=98607)\u001b[0m \tChunk chunk_ala_1 -> Node 4354000592\n",
      "\u001b[36m(NameNode pid=98607)\u001b[0m \tChunk chunk_ala_2 -> Node 4422182032\n",
      "\u001b[36m(NameNode pid=98607)\u001b[0m \tChunk chunk_ala_3 -> Node 4442247056\n",
      "\u001b[36m(NameNode pid=98607)\u001b[0m \tChunk chunk_ala_4 -> Node 4429582608\n",
      "\u001b[36m(NameNode pid=98607)\u001b[0m \tChunk chunk_ala_5 -> Node 4422182032\n",
      "\u001b[36m(NameNode pid=98607)\u001b[0m --------------------------\n",
      "\u001b[36m(NameNode pid=98607)\u001b[0m Loading chunk 0 from node Actor(StorageNode, 3341b6a34b4807aaf3201f8e01000000)\n",
      "\u001b[36m(NameNode pid=98607)\u001b[0m Loading chunk 1 from node Actor(StorageNode, 9f308efb67179c0da763df1201000000)\n",
      "\u001b[36m(NameNode pid=98607)\u001b[0m Loading chunk 2 from node Actor(StorageNode, 2694d3ceafb1b043e85aa95901000000)\n",
      "\u001b[36m(NameNode pid=98607)\u001b[0m Loading chunk 3 from node Actor(StorageNode, 9afb82266fc7123daba638c001000000)\n",
      "\u001b[36m(NameNode pid=98607)\u001b[0m Loading chunk 4 from node Actor(StorageNode, 3341b6a34b4807aaf3201f8e01000000)\n",
      "\u001b[36m(NameNode pid=98607)\u001b[0m Loading chunk 5 from node Actor(StorageNode, 2694d3ceafb1b043e85aa95901000000)\n",
      "\u001b[36m(NameNode pid=98607)\u001b[0m NameNode state:\n",
      "\u001b[36m(NameNode pid=98607)\u001b[0m \tArtifact ala:\n",
      "\u001b[36m(NameNode pid=98607)\u001b[0m \tChunk chunk_ala_0 -> Node 4429582608\n",
      "\u001b[36m(NameNode pid=98607)\u001b[0m \tChunk chunk_ala_1 -> Node 4354000592\n",
      "\u001b[36m(NameNode pid=98607)\u001b[0m \tChunk chunk_ala_2 -> Node 4422182032\n",
      "\u001b[36m(NameNode pid=98607)\u001b[0m \tChunk chunk_ala_3 -> Node 4442247056\n",
      "\u001b[36m(NameNode pid=98607)\u001b[0m \tChunk chunk_ala_4 -> Node 4429582608\n",
      "\u001b[36m(NameNode pid=98607)\u001b[0m \tChunk chunk_ala_5 -> Node 4422182032\n",
      "\u001b[36m(NameNode pid=98607)\u001b[0m \tArtifact kotek:\n",
      "\u001b[36m(NameNode pid=98607)\u001b[0m \tChunk chunk_kotek_0 -> Node 4354000592\n",
      "\u001b[36m(NameNode pid=98607)\u001b[0m \tChunk chunk_kotek_0 -> Node 4422182032\n",
      "\u001b[36m(StorageNode pid=98608)\u001b[0m Node 4422182032 state: chunk_ala_5 -> ['a']\n",
      "\u001b[36m(StorageNode pid=98608)\u001b[0m Node 4422182032 state: chunk_ala_2 -> ['m', 'a']\n",
      "\u001b[36m(StorageNode pid=98608)\u001b[0m Node 4422182032 state: chunk_ala_5 -> ['a']\n",
      "\u001b[36m(StorageNode pid=98608)\u001b[0m Node 4422182032 state: chunk_ala_2 -> ['m', 'a']\n",
      "\u001b[36m(StorageNode pid=98608)\u001b[0m Node 4422182032 get chunk_ala_2\n",
      "\u001b[36m(StorageNode pid=98608)\u001b[0m Node 4422182032 get chunk_ala_5\n",
      "\u001b[36m(StorageNode pid=98608)\u001b[0m Node 4422182032 get chunk_kotek_0\n",
      "\u001b[36m(StorageNode pid=98608)\u001b[0m Node 4422182032 put chunk_kotek_0 -> ['W', 'l', 'a', 'z']\n",
      "\u001b[36m(StorageNode pid=98608)\u001b[0m Node 4422182032 get chunk_kotek_5\n",
      "\u001b[36m(StorageNode pid=98608)\u001b[0m Node 4422182032 put chunk_kotek_5 -> ['k']\n",
      "\u001b[36m(StorageNode pid=98608)\u001b[0m Node 4422182032 state: chunk_ala_5 -> ['a']\n",
      "\u001b[36m(StorageNode pid=98608)\u001b[0m Node 4422182032 state: chunk_ala_2 -> ['m', 'a']\n",
      "\u001b[36m(StorageNode pid=98608)\u001b[0m Node 4422182032 state: chunk_kotek_0 -> ['W', 'l', 'a', 'z']\n",
      "\u001b[36m(StorageNode pid=98608)\u001b[0m Node 4422182032 state: chunk_kotek_5 -> ['k']\n",
      "\u001b[36m(StorageNode pid=98608)\u001b[0m Node 4422182032 state: chunk_ala_5 -> ['a']\n",
      "\u001b[36m(StorageNode pid=98608)\u001b[0m Node 4422182032 state: chunk_ala_2 -> ['m', 'a']\n",
      "\u001b[36m(StorageNode pid=98608)\u001b[0m Node 4422182032 state: chunk_kotek_0 -> ['W', 'l', 'a', 'z']\n",
      "\u001b[36m(StorageNode pid=98608)\u001b[0m Node 4422182032 state: chunk_kotek_5 -> ['k']\n",
      "\u001b[36m(StorageNode pid=98608)\u001b[0m Node 4422182032 state: chunk_ala_5 -> ['a']\n",
      "\u001b[36m(StorageNode pid=98608)\u001b[0m Node 4422182032 state: chunk_ala_2 -> ['m', 'a']\n",
      "\u001b[36m(StorageNode pid=98608)\u001b[0m Node 4422182032 state: chunk_kotek_0 -> ['W', 'l', 'a', 'z']\n",
      "\u001b[36m(StorageNode pid=98608)\u001b[0m Node 4422182032 state: chunk_kotek_5 -> ['k']\n",
      "\u001b[36m(StorageNode pid=98612)\u001b[0m Node 4429582608 state: chunk_ala_0 -> ['A', 'l']\n",
      "\u001b[36m(StorageNode pid=98612)\u001b[0m Node 4429582608 state: chunk_ala_4 -> ['o', 't']\n",
      "\u001b[36m(StorageNode pid=98612)\u001b[0m Node 4429582608 state: chunk_ala_0 -> ['A', 'l']\n",
      "\u001b[36m(StorageNode pid=98612)\u001b[0m Node 4429582608 state: chunk_ala_4 -> ['o', 't']\n",
      "\u001b[36m(StorageNode pid=98612)\u001b[0m Node 4429582608 put chunk_kotek_4 -> ['ł', 'o', 't', 'e']\n",
      "\u001b[36m(StorageNode pid=98612)\u001b[0m Node 4429582608 put chunk_kotek_1 -> ['ł', ' ', 'k', 'o']\n",
      "\u001b[36m(StorageNode pid=98612)\u001b[0m Node 4429582608 put chunk_kotek_2 -> ['t', 'e', 'k', ' ']\n",
      "\u001b[36m(StorageNode pid=98612)\u001b[0m Node 4429582608 put chunk_kotek_3 -> ['n', 'a', ' ', 'p']\n",
      "\u001b[36m(StorageNode pid=98612)\u001b[0m Node 4429582608 state: chunk_ala_0 -> ['A', 'l']\n",
      "\u001b[36m(StorageNode pid=98612)\u001b[0m Node 4429582608 state: chunk_ala_4 -> ['o', 't']\n",
      "\u001b[36m(StorageNode pid=98612)\u001b[0m Node 4429582608 state: chunk_kotek_4 -> ['ł', 'o', 't', 'e']\n",
      "\u001b[36m(StorageNode pid=98612)\u001b[0m Node 4429582608 state: chunk_kotek_1 -> ['ł', ' ', 'k', 'o']\n",
      "\u001b[36m(StorageNode pid=98612)\u001b[0m Node 4429582608 state: chunk_kotek_2 -> ['t', 'e', 'k', ' ']\n",
      "\u001b[36m(StorageNode pid=98612)\u001b[0m Node 4429582608 state: chunk_kotek_3 -> ['n', 'a', ' ', 'p']\n",
      "\u001b[36m(StorageNode pid=98612)\u001b[0m Node 4429582608 state: chunk_ala_0 -> ['A', 'l']\n",
      "\u001b[36m(StorageNode pid=98612)\u001b[0m Node 4429582608 state: chunk_ala_4 -> ['o', 't']\n",
      "\u001b[36m(StorageNode pid=98612)\u001b[0m Node 4429582608 state: chunk_kotek_4 -> ['ł', 'o', 't', 'e']\n",
      "\u001b[36m(StorageNode pid=98612)\u001b[0m Node 4429582608 state: chunk_kotek_1 -> ['ł', ' ', 'k', 'o']\n",
      "\u001b[36m(StorageNode pid=98612)\u001b[0m Node 4429582608 state: chunk_kotek_2 -> ['t', 'e', 'k', ' ']\n",
      "\u001b[36m(StorageNode pid=98612)\u001b[0m Node 4429582608 state: chunk_kotek_3 -> ['n', 'a', ' ', 'p']\n",
      "\u001b[36m(StorageNode pid=98612)\u001b[0m Node 4429582608 state: chunk_ala_0 -> ['A', 'l']\n",
      "\u001b[36m(StorageNode pid=98612)\u001b[0m Node 4429582608 state: chunk_ala_4 -> ['o', 't']\n",
      "\u001b[36m(StorageNode pid=98612)\u001b[0m Node 4429582608 state: chunk_kotek_4 -> ['ł', 'o', 't', 'e']\n",
      "\u001b[36m(StorageNode pid=98612)\u001b[0m Node 4429582608 state: chunk_kotek_1 -> ['ł', ' ', 'k', 'o']\n",
      "\u001b[36m(StorageNode pid=98612)\u001b[0m Node 4429582608 state: chunk_kotek_2 -> ['t', 'e', 'k', ' ']\n",
      "\u001b[36m(StorageNode pid=98612)\u001b[0m Node 4429582608 state: chunk_kotek_3 -> ['n', 'a', ' ', 'p']\n",
      "\u001b[36m(StorageNode pid=98610)\u001b[0m Node 4442247056 state: chunk_ala_3 -> [' ', 'k']\n",
      "\u001b[36m(StorageNode pid=98610)\u001b[0m Node 4442247056 state: chunk_ala_3 -> [' ', 'k']\n",
      "\u001b[36m(StorageNode pid=98611)\u001b[0m Node 4354000592 state: chunk_ala_1 -> ['a', ' ']\n",
      "\u001b[36m(StorageNode pid=98611)\u001b[0m Node 4354000592 state: chunk_ala_1 -> ['a', ' ']\n",
      "\u001b[36m(StorageNode pid=98611)\u001b[0m Node 4354000592 state: chunk_ala_1 -> ['a', ' ']\n",
      "\u001b[36m(NameNode pid=98607)\u001b[0m \tChunk chunk_kotek_1 -> Node 4429582608\n",
      "\u001b[36m(NameNode pid=98607)\u001b[0m \tChunk chunk_kotek_1 -> Node 4595343568\n",
      "\u001b[36m(NameNode pid=98607)\u001b[0m \tChunk chunk_kotek_2 -> Node 4442247056\n",
      "\u001b[36m(StorageNode pid=98610)\u001b[0m Node 4442247056 state: chunk_ala_3 -> [' ', 'k']\n",
      "\u001b[36m(NameNode pid=98607)\u001b[0m \tChunk chunk_kotek_2 -> Node 4429582608\n",
      "\u001b[36m(StorageNode pid=98612)\u001b[0m Node 4429582608 state: chunk_ala_0 -> ['A', 'l']\n",
      "\u001b[36m(StorageNode pid=98612)\u001b[0m Node 4429582608 state: chunk_ala_4 -> ['o', 't']\n",
      "\u001b[36m(NameNode pid=98607)\u001b[0m \tChunk chunk_kotek_3 -> Node 4595343568\n",
      "\u001b[36m(NameNode pid=98607)\u001b[0m \tChunk chunk_kotek_3 -> Node 4429582608\n",
      "\u001b[36m(StorageNode pid=98612)\u001b[0m Node 4429582608 state: chunk_ala_0 -> ['A', 'l']\n",
      "\u001b[36m(StorageNode pid=98612)\u001b[0m Node 4429582608 state: chunk_ala_4 -> ['o', 't']\n",
      "\u001b[36m(NameNode pid=98607)\u001b[0m \tChunk chunk_kotek_4 -> Node 4429582608\n",
      "\u001b[36m(StorageNode pid=98612)\u001b[0m Node 4429582608 state: chunk_ala_0 -> ['A', 'l']\n",
      "\u001b[36m(StorageNode pid=98612)\u001b[0m Node 4429582608 state: chunk_ala_4 -> ['o', 't']\n",
      "\u001b[36m(NameNode pid=98607)\u001b[0m \tChunk chunk_kotek_4 -> Node 4354000592\n",
      "\u001b[36m(StorageNode pid=98611)\u001b[0m Node 4354000592 state: chunk_ala_1 -> ['a', ' ']\n",
      "\u001b[36m(NameNode pid=98607)\u001b[0m \tChunk chunk_kotek_5 -> Node 4595343568\n",
      "\u001b[36m(StorageNode pid=98613)\u001b[0m \n",
      "\u001b[36m(NameNode pid=98607)\u001b[0m \tChunk chunk_kotek_5 -> Node 4422182032\n",
      "\u001b[36m(StorageNode pid=98608)\u001b[0m Node 4422182032 state: chunk_ala_5 -> ['a']\n",
      "\u001b[36m(StorageNode pid=98608)\u001b[0m Node 4422182032 state: chunk_ala_2 -> ['m', 'a']\n",
      "\u001b[36m(NameNode pid=98607)\u001b[0m Loading chunk 0 from node Actor(StorageNode, 9f308efb67179c0da763df1201000000)\n",
      "\u001b[36m(NameNode pid=98607)\u001b[0m Loading chunk 1 from node Actor(StorageNode, 3341b6a34b4807aaf3201f8e01000000)\n",
      "\u001b[36m(NameNode pid=98607)\u001b[0m Loading chunk 2 from node Actor(StorageNode, 9afb82266fc7123daba638c001000000)\n",
      "\u001b[36m(NameNode pid=98607)\u001b[0m Loading chunk 3 from node Actor(StorageNode, d2a493aff20f499ec27b738a01000000)\n",
      "\u001b[36m(NameNode pid=98607)\u001b[0m Loading chunk 4 from node Actor(StorageNode, 3341b6a34b4807aaf3201f8e01000000)\n",
      "\u001b[36m(NameNode pid=98607)\u001b[0m Loading chunk 5 from node Actor(StorageNode, d2a493aff20f499ec27b738a01000000)\n",
      "\u001b[36m(NameNode pid=98607)\u001b[0m NameNode state:\n",
      "\u001b[36m(NameNode pid=98607)\u001b[0m \tArtifact kotek:\n",
      "\u001b[36m(NameNode pid=98607)\u001b[0m \tChunk chunk_kotek_0 -> Node 4354000592\n",
      "\u001b[36m(NameNode pid=98607)\u001b[0m \tChunk chunk_kotek_0 -> Node 4422182032\n",
      "\u001b[36m(NameNode pid=98607)\u001b[0m \tChunk chunk_kotek_1 -> Node 4429582608\n",
      "\u001b[36m(NameNode pid=98607)\u001b[0m \tChunk chunk_kotek_1 -> Node 4595343568\n",
      "\u001b[36m(NameNode pid=98607)\u001b[0m \tChunk chunk_kotek_2 -> Node 4442247056\n",
      "\u001b[36m(NameNode pid=98607)\u001b[0m \tChunk chunk_kotek_2 -> Node 4429582608\n",
      "\u001b[36m(NameNode pid=98607)\u001b[0m \tChunk chunk_kotek_3 -> Node 4595343568\n",
      "\u001b[36m(NameNode pid=98607)\u001b[0m \tChunk chunk_kotek_3 -> Node 4429582608\n",
      "\u001b[36m(NameNode pid=98607)\u001b[0m \tChunk chunk_kotek_4 -> Node 4429582608\n",
      "\u001b[36m(NameNode pid=98607)\u001b[0m \tChunk chunk_kotek_4 -> Node 4354000592\n",
      "\u001b[36m(NameNode pid=98607)\u001b[0m \tChunk chunk_kotek_5 -> Node 4595343568\n",
      "\u001b[36m(NameNode pid=98607)\u001b[0m \tChunk chunk_kotek_5 -> Node 4422182032\n",
      "\u001b[36m(NameNode pid=98607)\u001b[0m --------------------------\n",
      "\u001b[36m(NameNode pid=98607)\u001b[0m Loading chunk 0 from node Actor(StorageNode, 2694d3ceafb1b043e85aa95901000000)\n",
      "\u001b[36m(NameNode pid=98607)\u001b[0m Loading chunk 1 from node Actor(StorageNode, 3341b6a34b4807aaf3201f8e01000000)\n",
      "\u001b[36m(NameNode pid=98607)\u001b[0m Loading chunk 2 from node Actor(StorageNode, 9f308efb67179c0da763df1201000000)\n",
      "\u001b[36m(NameNode pid=98607)\u001b[0m Loading chunk 3 from node Actor(StorageNode, 9f308efb67179c0da763df1201000000)\n",
      "\u001b[36m(NameNode pid=98607)\u001b[0m Loading chunk 4 from node Actor(StorageNode, 9afb82266fc7123daba638c001000000)\n",
      "\u001b[36m(NameNode pid=98607)\u001b[0m Loading chunk 5 from node Actor(StorageNode, 9f308efb67179c0da763df1201000000)\n",
      "\u001b[36m(NameNode pid=98607)\u001b[0m Loading chunk 6 from node Actor(StorageNode, d2a493aff20f499ec27b738a01000000)\n",
      "\u001b[36m(StorageNode pid=98608)\u001b[0m Node 4422182032 drop chunk_ala_2\n",
      "\u001b[36m(StorageNode pid=98608)\u001b[0m Node 4422182032 drop chunk_ala_5\n",
      "\u001b[36m(StorageNode pid=98608)\u001b[0m Node 4422182032 state: chunk_kotek_0 -> ['W', 'l', 'a', 'z']\n",
      "\u001b[36m(StorageNode pid=98608)\u001b[0m Node 4422182032 state: chunk_kotek_5 -> ['k']\n",
      "\u001b[36m(StorageNode pid=98608)\u001b[0m Node 4422182032 state: chunk_kotek_0 -> ['W', 'l', 'a', 'z']\n",
      "\u001b[36m(StorageNode pid=98608)\u001b[0m Node 4422182032 state: chunk_kotek_5 -> ['k']\n",
      "\u001b[36m(StorageNode pid=98608)\u001b[0m Node 4422182032 drop chunk_kotek_0\n",
      "\u001b[36m(StorageNode pid=98608)\u001b[0m Node 4422182032 drop chunk_kotek_5\n",
      "\u001b[36m(StorageNode pid=98608)\u001b[0m Node 4422182032 get chunk_kotek_0\n",
      "\u001b[36m(StorageNode pid=98608)\u001b[0m Node 4422182032 put chunk_kotek_0 -> ['I']\n",
      "\u001b[36m(StorageNode pid=98608)\u001b[0m Node 4422182032 get chunk_kotek_0\n",
      "\u001b[36m(StorageNode pid=98612)\u001b[0m Node 4429582608 state: chunk_kotek_4 -> ['ł', 'o', 't', 'e']\n",
      "\u001b[36m(StorageNode pid=98612)\u001b[0m Node 4429582608 state: chunk_kotek_1 -> ['ł', ' ', 'k', 'o']\n",
      "\u001b[36m(StorageNode pid=98612)\u001b[0m Node 4429582608 state: chunk_kotek_2 -> ['t', 'e', 'k', ' ']\n",
      "\u001b[36m(StorageNode pid=98612)\u001b[0m Node 4429582608 state: chunk_kotek_3 -> ['n', 'a', ' ', 'p']\n",
      "\u001b[36m(StorageNode pid=98612)\u001b[0m Node 4429582608 state: chunk_kotek_4 -> ['ł', 'o', 't', 'e']\n",
      "\u001b[36m(StorageNode pid=98612)\u001b[0m Node 4429582608 state: chunk_kotek_1 -> ['ł', ' ', 'k', 'o']\n",
      "\u001b[36m(StorageNode pid=98612)\u001b[0m Node 4429582608 state: chunk_kotek_2 -> ['t', 'e', 'k', ' ']\n",
      "\u001b[36m(StorageNode pid=98612)\u001b[0m Node 4429582608 state: chunk_kotek_3 -> ['n', 'a', ' ', 'p']\n",
      "\u001b[36m(StorageNode pid=98612)\u001b[0m Node 4429582608 state: chunk_kotek_4 -> ['ł', 'o', 't', 'e']\n",
      "\u001b[36m(StorageNode pid=98612)\u001b[0m Node 4429582608 state: chunk_kotek_1 -> ['ł', ' ', 'k', 'o']\n",
      "\u001b[36m(StorageNode pid=98612)\u001b[0m Node 4429582608 state: chunk_kotek_2 -> ['t', 'e', 'k', ' ']\n",
      "\u001b[36m(StorageNode pid=98612)\u001b[0m Node 4429582608 state: chunk_kotek_3 -> ['n', 'a', ' ', 'p']\n",
      "\u001b[36m(StorageNode pid=98612)\u001b[0m Node 4429582608 state: chunk_kotek_4 -> ['ł', 'o', 't', 'e']\n",
      "\u001b[36m(StorageNode pid=98612)\u001b[0m Node 4429582608 state: chunk_kotek_1 -> ['ł', ' ', 'k', 'o']\n",
      "\u001b[36m(StorageNode pid=98612)\u001b[0m Node 4429582608 state: chunk_kotek_2 -> ['t', 'e', 'k', ' ']\n",
      "\u001b[36m(StorageNode pid=98612)\u001b[0m Node 4429582608 state: chunk_kotek_3 -> ['n', 'a', ' ', 'p']\n",
      "\u001b[36m(StorageNode pid=98612)\u001b[0m Node 4429582608 state: chunk_kotek_4 -> ['ł', 'o', 't', 'e']\n",
      "\u001b[36m(StorageNode pid=98612)\u001b[0m Node 4429582608 state: chunk_kotek_1 -> ['ł', ' ', 'k', 'o']\n",
      "\u001b[36m(StorageNode pid=98612)\u001b[0m Node 4429582608 state: chunk_kotek_2 -> ['t', 'e', 'k', ' ']\n",
      "\u001b[36m(StorageNode pid=98612)\u001b[0m Node 4429582608 state: chunk_kotek_3 -> ['n', 'a', ' ', 'p']\n",
      "\u001b[36m(StorageNode pid=98612)\u001b[0m Node 4429582608 put chunk_kotek_1 -> [' ']\n",
      "\u001b[36m(StorageNode pid=98610)\u001b[0m Node 4442247056 put chunk_kotek_4 -> ['u']\n",
      "\u001b[36m(StorageNode pid=98611)\u001b[0m Node 4354000592 put chunk_kotek_3 -> ['r']\n",
      "\u001b[36m(StorageNode pid=98611)\u001b[0m Node 4354000592 put chunk_kotek_5 -> ['g']\n",
      "\u001b[36m(StorageNode pid=98611)\u001b[0m Node 4354000592 put chunk_kotek_2 -> ['m']\n",
      "\u001b[36m(StorageNode pid=98613)\u001b[0m Node 4595343568 put chunk_kotek_6 -> ['a']\n"
     ]
    }
   ],
   "source": [
    "import ray\n",
    "\n",
    "if ray.is_initialized:\n",
    "    ray.shutdown()\n",
    "ray.init(ignore_reinit_error=True)"
   ]
  },
  {
   "cell_type": "code",
   "execution_count": 2,
   "id": "143834bc",
   "metadata": {},
   "outputs": [],
   "source": [
    "from dataclasses import dataclass\n",
    "from typing import Any\n",
    "import random\n",
    "from copy import deepcopy\n",
    "\n",
    "\n",
    "@dataclass\n",
    "class Artefact:\n",
    "    name: str\n",
    "    data: str"
   ]
  },
  {
   "cell_type": "code",
   "execution_count": 3,
   "id": "1c6a6486",
   "metadata": {},
   "outputs": [],
   "source": [
    "\n",
    "\n",
    "@ray.remote\n",
    "class StorageNode:\n",
    "    def __init__(self, max_size: int):\n",
    "        self.size = max_size\n",
    "        self.data = {}\n",
    "        self.id = id(self)\n",
    "\n",
    "    def put(self, name: str, value: str) -> bool:\n",
    "        print(f'Node {self.id} put {name} -> {value}')\n",
    "        if len(self.data) < self.size:\n",
    "            self.data[name] = value\n",
    "            return True\n",
    "        else:\n",
    "            return False\n",
    "\n",
    "    def get(self, name: str) -> Any | None:\n",
    "        print(f'Node {self.id} get {name}')\n",
    "        return self.data.get(name, None)\n",
    "\n",
    "    def drop(self, name: str) -> bool:\n",
    "        print(f'Node {self.id} drop {name}')\n",
    "        if name in self.data:\n",
    "            del self.data[name]\n",
    "            return True\n",
    "        else:\n",
    "            return False\n",
    "\n",
    "    def is_full(self) -> bool:\n",
    "        return len(self.data) >= self.size\n",
    "\n",
    "    def list_state(self) -> None:\n",
    "        for key, value in self.data.items():\n",
    "            print(f'Node {self.id} state: {key} -> {value}')\n",
    "        print(\"--------------------------\")\n",
    "\n",
    "    def id(self) -> str:\n",
    "        return str(self.id)"
   ]
  },
  {
   "cell_type": "code",
   "execution_count": 4,
   "id": "e600fc19",
   "metadata": {},
   "outputs": [],
   "source": [
    "from enum import StrEnum, auto\n",
    "\n",
    "\n",
    "class NodeState(StrEnum):\n",
    "    healthy = auto()\n",
    "    failing = auto()\n",
    "\n",
    "\n",
    "@ray.remote\n",
    "class NodeMonitor():\n",
    "    def __init__(self, nodes: list[StorageNode]):\n",
    "        self.nodes = {ray.get(node.id.remote()): node for node in nodes}\n",
    "        self.node_states = {\n",
    "            ray.get(node.id.remote()): NodeState.healthy for node in nodes}\n",
    "\n",
    "    def get_node_state(self, node_id: str) -> NodeState:\n",
    "        if node_id not in self.nodes:\n",
    "            raise ValueError(f\"Node {node_id} not found\")\n",
    "        return self.node_states.get(node_id, NodeState.healthy)\n",
    "\n",
    "    def is_node_healthy(self, node: StorageNode) -> bool:\n",
    "        node_id = ray.get(node.id.remote())\n",
    "        if node_id not in self.nodes:\n",
    "            raise ValueError(f\"Node {node_id} not found\")\n",
    "        return self.get_node_state(node_id) == NodeState.healthy\n",
    "\n",
    "    def set_node_state(self, node_id: str, state: NodeState) -> None:\n",
    "        if node_id not in self.nodes:\n",
    "            raise ValueError(f\"Node {node_id} not found\")\n",
    "        self.node_states[node_id] = state"
   ]
  },
  {
   "cell_type": "code",
   "execution_count": 5,
   "id": "262d31b8",
   "metadata": {},
   "outputs": [],
   "source": [
    "\n",
    "\n",
    "@ray.remote\n",
    "class NameNode:\n",
    "    def __init__(self, nodes_count=5, max_size=20):\n",
    "        self.nodes = [StorageNode.remote(max_size) for _ in range(nodes_count)]\n",
    "        self.artefacts = {}\n",
    "        self.monitor = NodeMonitor.remote(self.nodes)\n",
    "\n",
    "    def save(self, artefact: Artefact, chunk_count: int = None, replicas: int = 1) -> dict:\n",
    "        \"\"\"\n",
    "        Save data to the storage nodes.\n",
    "        :param data: List of data to be saved\n",
    "        :param chunk_count: Number of chunks to split the data into (default: None - split into free nodes)\n",
    "        :param replicas: Number of replicas to create (default: 1) \n",
    "        \"\"\"\n",
    "\n",
    "        if artefact.name in self.artefacts:\n",
    "            self.delete(artefact.name)\n",
    "\n",
    "        free_nodes = [node for node in self.nodes if not ray.get(\n",
    "            node.is_full.remote())]\n",
    "\n",
    "        if len(free_nodes) == 0:\n",
    "            return {'status': 'error', 'message': 'No free nodes available'}\n",
    "\n",
    "        if chunk_count is not None and chunk_count > len(free_nodes):\n",
    "            return {'status': 'error', 'message': f'Chunk count {chunk_count} exceeds available nodes {len(free_nodes)}'}\n",
    "\n",
    "        # Split data into chunks\n",
    "        data = list(artefact.data)\n",
    "        chunks = []\n",
    "        chunk_size = len(data) // (chunk_count or len(free_nodes))\n",
    "        for i in range(0, len(data), chunk_size):\n",
    "            chunks.append(data[i:i + chunk_size])\n",
    "\n",
    "        artifact_id = artefact.name\n",
    "        self.artefacts[artifact_id] = [[] for _ in range(len(chunks))]\n",
    "        for _ in range(replicas):\n",
    "            result = self.__load_chunks_on_nodes(\n",
    "                artifact_id, chunks, free_nodes, self.artefacts[artifact_id])\n",
    "            if result.get('status') != 'ok':\n",
    "                print('Error occurred when inserting artefact',\n",
    "                      result.get('message', \"\"))\n",
    "            self.artefacts[artifact_id] = result['state']\n",
    "\n",
    "        return {'status': 'ok', 'message': f'Artifact {artifact_id} saved', 'id': artifact_id}\n",
    "\n",
    "    def delete(self, artefact_id: str) -> dict:\n",
    "        \"\"\"\n",
    "        Delete artefact from the storage nodes.\n",
    "        :param artefact_id: ID of the artefact to be deleted\n",
    "        \"\"\"\n",
    "        if artefact_id not in self.artefacts:\n",
    "            return {'status': 'error', 'message': f'Artifact {artefact_id} not found'}\n",
    "\n",
    "        state = self.artefacts[artefact_id]\n",
    "        for chunk_id, nodes in enumerate(state):\n",
    "            for node in nodes:\n",
    "                key = self.__chunk_key(artefact_id, chunk_id)\n",
    "                if not ray.get(node.drop.remote(key)):\n",
    "                    raise Exception(\n",
    "                        f\"Failed to drop chunk {key} from node {node}\")\n",
    "        del self.artefacts[artefact_id]\n",
    "        return {'status': 'ok', 'message': f'Artifact {artefact_id} deleted'}\n",
    "\n",
    "    def __load_chunks_on_nodes(self, artefact_id: str, chunks: list, nodes: list, state: list) -> dict:\n",
    "        \"\"\"\n",
    "        Load chunks on free nodes.\n",
    "        :param chunks: List of chunks to be loaded\n",
    "        :param free_nodes: List of free nodes to load the chunks on\n",
    "        \"\"\"\n",
    "        chunks_with_index = list(enumerate(chunks))\n",
    "        nodes_copy = deepcopy(nodes)\n",
    "\n",
    "        random.shuffle(chunks_with_index)\n",
    "\n",
    "        for chunk_id, chunk in chunks_with_index:\n",
    "            key = self.__chunk_key(artefact_id, chunk_id)\n",
    "            random.shuffle(nodes_copy)\n",
    "            for node in nodes_copy:\n",
    "                is_full = ray.get(node.is_full.remote())\n",
    "                contains = ray.get(node.get.remote(key))\n",
    "                if not is_full and not contains:\n",
    "                    if not node.put.remote(key, chunk):\n",
    "                        raise Exception(\n",
    "                            f\"Failed to put chunk {key} into node {node}\")\n",
    "                    state[chunk_id].append(node)\n",
    "                    break\n",
    "            else:\n",
    "                return {\n",
    "                    'status': 'full',\n",
    "                    'message': f'Failed to find a node for chunk {chunk_id} - all nodes full',\n",
    "                    'state': state\n",
    "                }\n",
    "\n",
    "        return {'status': 'ok', 'message': f'{len(chunks)} chunks loaded', 'state': state}\n",
    "\n",
    "    def load_chunk(self, artifact_id: str, chunk_id: int) -> dict:\n",
    "        if artifact_id not in self.artefacts:\n",
    "            return {'status': 'error', 'message': f'Artifact {artifact_id} not found'}\n",
    "        state = self.artefacts[artifact_id]\n",
    "        if chunk_id not in state:\n",
    "            return {'status': 'error', 'message': f'Chunk {chunk_id} not found in artifact {artifact_id}'}\n",
    "        nodes = state[chunk_id]\n",
    "        node = next(n for n in nodes if ray.get(\n",
    "            self.monitor.is_node_healthy.remote(n)))\n",
    "        key = self.__chunk_key(artifact_id, chunk_id)\n",
    "        chunk = ray.get(node.get.remote(key))\n",
    "        return {'status': 'ok', 'message': f'Chunk {chunk_id} loaded', 'data': chunk}\n",
    "\n",
    "    def load(self, artifact_id: str) -> dict:\n",
    "        if artifact_id not in self.artefacts:\n",
    "            return {'status': 'error', 'message': f'Artifact {artifact_id} not found'}\n",
    "\n",
    "        state = self.artefacts[artifact_id]\n",
    "        result = []\n",
    "        for chunk_id, nodes in enumerate(state):\n",
    "            node = next(\n",
    "                n for n in nodes if ray.get(self.monitor.is_node_healthy.remote(n)))\n",
    "            print(\n",
    "                f'Loading chunk {chunk_id} from node {node}')\n",
    "            key = self.__chunk_key(artifact_id, chunk_id)\n",
    "            chunk = ray.get(node.get.remote(key))\n",
    "            if chunk is None:\n",
    "                return {'status': 'error', 'message': f'Chunk {chunk_id} not found in artifact {artifact_id}'}\n",
    "            result.extend(chunk)\n",
    "        return {'status': 'ok', 'message': f'Artifact {artifact_id} loaded', 'data': \"\".join(result)}\n",
    "\n",
    "    # UTILS\n",
    "    def pprint_state(self):\n",
    "        print(f'NameNode state:')\n",
    "        for id, state in self.artefacts.items():\n",
    "            print(f'\\tArtifact {id}:')\n",
    "            for chunk_id, nodes in enumerate(state):\n",
    "                for node in nodes:\n",
    "                    print(\n",
    "                        f'\\tChunk {self.__chunk_key(id, chunk_id)} -> Node {ray.get(node.id.remote())}')\n",
    "                    ray.get(node.list_state.remote())\n",
    "        print(\"--------------------------\")\n",
    "        return True\n",
    "\n",
    "    def get_monitor(self):\n",
    "        return self.monitor\n",
    "\n",
    "    def get_nodes(self):\n",
    "        return self.nodes\n",
    "\n",
    "    def __chunk_key(self, artifact_id: str, chunk_id: int) -> str:\n",
    "        return f'chunk_{artifact_id}_{chunk_id}'"
   ]
  },
  {
   "cell_type": "code",
   "execution_count": 6,
   "id": "0d34d1f6",
   "metadata": {},
   "outputs": [],
   "source": [
    "core = NameNode.remote()"
   ]
  },
  {
   "cell_type": "code",
   "execution_count": 7,
   "id": "8c4c140a",
   "metadata": {},
   "outputs": [
    {
     "name": "stdout",
     "output_type": "stream",
     "text": [
      "{'status': 'ok', 'message': 'Artifact ala saved', 'id': 'ala'}\n"
     ]
    }
   ],
   "source": [
    "# Example usage\n",
    "data = \"Ala ma kota\"\n",
    "data = Artefact(name=\"ala\", data=data)\n",
    "res = core.save.remote(data)\n",
    "print(ray.get(res))"
   ]
  },
  {
   "cell_type": "code",
   "execution_count": 8,
   "id": "1df4614b",
   "metadata": {},
   "outputs": [
    {
     "data": {
      "text/plain": [
       "True"
      ]
     },
     "execution_count": 8,
     "metadata": {},
     "output_type": "execute_result"
    }
   ],
   "source": [
    "ray.get(core.pprint_state.remote())"
   ]
  },
  {
   "cell_type": "code",
   "execution_count": 9,
   "id": "4eda55ea",
   "metadata": {},
   "outputs": [
    {
     "data": {
      "text/plain": [
       "{'status': 'ok', 'message': 'Artifact ala loaded', 'data': 'Ala ma kota'}"
      ]
     },
     "execution_count": 9,
     "metadata": {},
     "output_type": "execute_result"
    }
   ],
   "source": [
    "ray.get(core.load.remote(\"ala\"))"
   ]
  },
  {
   "cell_type": "code",
   "execution_count": 10,
   "id": "d9497f52",
   "metadata": {},
   "outputs": [
    {
     "name": "stdout",
     "output_type": "stream",
     "text": [
      "{'status': 'ok', 'message': 'Artifact kotek saved', 'id': 'kotek'}\n"
     ]
    }
   ],
   "source": [
    "data = Artefact(name='kotek', data='Wlazł kotek na płotek')\n",
    "res = core.save.remote(data, replicas=2)\n",
    "print(ray.get(res))"
   ]
  },
  {
   "cell_type": "code",
   "execution_count": 11,
   "id": "87d8947d",
   "metadata": {},
   "outputs": [
    {
     "data": {
      "text/plain": [
       "{'status': 'ok',\n",
       " 'message': 'Artifact kotek loaded',\n",
       " 'data': 'Wlazł kotek na płotek'}"
      ]
     },
     "execution_count": 11,
     "metadata": {},
     "output_type": "execute_result"
    }
   ],
   "source": [
    "ray.get(core.pprint_state.remote())\n",
    "ray.get(core.load.remote(\"kotek\"))"
   ]
  },
  {
   "cell_type": "code",
   "execution_count": 12,
   "id": "fde689f4",
   "metadata": {},
   "outputs": [
    {
     "data": {
      "text/plain": [
       "True"
      ]
     },
     "execution_count": 12,
     "metadata": {},
     "output_type": "execute_result"
    }
   ],
   "source": [
    "ray.get(core.delete.remote(\"ala\"))\n",
    "ray.get(core.pprint_state.remote())"
   ]
  },
  {
   "cell_type": "code",
   "execution_count": 13,
   "id": "5aad44b6",
   "metadata": {},
   "outputs": [],
   "source": [
    "nodes = ray.get(core.get_nodes.remote())\n",
    "ray.get(nodes[1].list_state.remote())"
   ]
  },
  {
   "cell_type": "code",
   "execution_count": 14,
   "id": "d2aa319d",
   "metadata": {},
   "outputs": [
    {
     "name": "stdout",
     "output_type": "stream",
     "text": [
      "{'status': 'ok', 'message': 'Artifact kotek saved', 'id': 'kotek'}\n"
     ]
    },
    {
     "data": {
      "text/plain": [
       "{'status': 'ok', 'message': 'Artifact kotek loaded', 'data': 'I mruga'}"
      ]
     },
     "execution_count": 14,
     "metadata": {},
     "output_type": "execute_result"
    }
   ],
   "source": [
    "data = Artefact(name='kotek', data='I mruga')\n",
    "res = core.save.remote(data)\n",
    "print(ray.get(res))\n",
    "ray.get(core.load.remote(\"kotek\"))"
   ]
  },
  {
   "cell_type": "code",
   "execution_count": 15,
   "id": "c00a423d",
   "metadata": {},
   "outputs": [
    {
     "data": {
      "text/plain": [
       "True"
      ]
     },
     "execution_count": 15,
     "metadata": {},
     "output_type": "execute_result"
    }
   ],
   "source": [
    "ray.get(core.pprint_state.remote())"
   ]
  },
  {
   "cell_type": "code",
   "execution_count": 16,
   "id": "d44d84af",
   "metadata": {},
   "outputs": [],
   "source": [
    "ray.shutdown()"
   ]
  }
 ],
 "metadata": {
  "kernelspec": {
   "display_name": ".venv",
   "language": "python",
   "name": "python3"
  },
  "language_info": {
   "codemirror_mode": {
    "name": "ipython",
    "version": 3
   },
   "file_extension": ".py",
   "mimetype": "text/x-python",
   "name": "python",
   "nbconvert_exporter": "python",
   "pygments_lexer": "ipython3",
   "version": "3.11.12"
  }
 },
 "nbformat": 4,
 "nbformat_minor": 5
}
